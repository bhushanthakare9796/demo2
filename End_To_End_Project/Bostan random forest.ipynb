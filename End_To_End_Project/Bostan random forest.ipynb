{
 "cells": [
  {
   "cell_type": "code",
   "execution_count": 1,
   "id": "1d90fa65",
   "metadata": {},
   "outputs": [],
   "source": [
    "import pandas as pd\n",
    "import numpy as np\n",
    "import seaborn as sns\n",
    "import matplotlib.pyplot as plt\n",
    "from sklearn.model_selection import train_test_split,GridSearchCV,RandomizedSearchCV\n",
    "from sklearn.metrics import mean_absolute_error,mean_squared_error,r2_score\n",
    "from sklearn.ensemble import RandomForestRegressor\n",
    "from sklearn.datasets import load_boston\n",
    "import warnings\n",
    "warnings.filterwarnings(\"ignore\")"
   ]
  },
  {
   "cell_type": "code",
   "execution_count": 2,
   "id": "89f645ad",
   "metadata": {},
   "outputs": [],
   "source": [
    "bostan=load_boston()\n",
    "x=pd.DataFrame(bostan.data,columns=bostan.feature_names)\n",
    "y=pd.Series(bostan.target)"
   ]
  },
  {
   "cell_type": "code",
   "execution_count": 3,
   "id": "aac75c35",
   "metadata": {},
   "outputs": [],
   "source": [
    "x_train,x_test,y_train,y_test=train_test_split(x,y,test_size=0.22,random_state=45)"
   ]
  },
  {
   "cell_type": "code",
   "execution_count": 4,
   "id": "6b8c1ff8",
   "metadata": {},
   "outputs": [
    {
     "data": {
      "text/plain": [
       "RandomForestRegressor(criterion='mse', max_depth=6, min_samples_leaf=4,\n",
       "                      min_samples_split=8, n_estimators=24, random_state=11)"
      ]
     },
     "execution_count": 4,
     "metadata": {},
     "output_type": "execute_result"
    }
   ],
   "source": [
    "# Hyperparameter tuning\n",
    "rf_reg=RandomForestRegressor()\n",
    "parameter={\"n_estimators\":np.arange(10,100),\n",
    "          \"criterion\":[\"mse\",\"mae\"],\n",
    "          \"min_samples_split\":np.arange(2,20),\n",
    "          \"min_samples_leaf\":np.arange(2,20),\n",
    "          \"max_depth\":np.arange(2,10),\n",
    "          \"random_state\":[11],}\n",
    "\n",
    "rscv_rf_reg=RandomizedSearchCV(rf_reg,parameter,cv=5)  # RandomizedSearchCV\n",
    "rscv_rf_reg.fit(x_train,y_train)\n",
    "rscv_rf_reg.best_estimator_"
   ]
  },
  {
   "cell_type": "code",
   "execution_count": 5,
   "id": "5505864c",
   "metadata": {},
   "outputs": [
    {
     "data": {
      "text/plain": [
       "RandomForestRegressor(criterion='mse', max_depth=6, min_samples_leaf=4,\n",
       "                      min_samples_split=8, n_estimators=24, random_state=11)"
      ]
     },
     "execution_count": 5,
     "metadata": {},
     "output_type": "execute_result"
    }
   ],
   "source": [
    "rf_reg=rscv_rf_reg.best_estimator_\n",
    "rf_reg.fit(x_train,y_train)"
   ]
  },
  {
   "cell_type": "code",
   "execution_count": 6,
   "id": "cbe93727",
   "metadata": {},
   "outputs": [
    {
     "name": "stdout",
     "output_type": "stream",
     "text": [
      "MSE : 11.447617085596175\n",
      "********************************************************************************\n",
      "RMSE : 3.3834327369693895\n",
      "********************************************************************************\n",
      "MAE: 2.4816774474335324\n",
      "********************************************************************************\n",
      "R-Squared value: 0.8885362472463987\n"
     ]
    }
   ],
   "source": [
    "# Testing accuracy\n",
    "y_pred=rf_reg.predict(x_test)\n",
    "mse = mean_squared_error(y_test,y_pred)\n",
    "print(\"MSE :\",mse)\n",
    "\n",
    "print(\"*\"*80)\n",
    "rmse = np.sqrt(mse)\n",
    "print(\"RMSE :\",rmse)\n",
    "\n",
    "print(\"*\"*80)\n",
    "mae = mean_absolute_error(y_test,y_pred)\n",
    "print(\"MAE:\",mae)\n",
    "print(\"*\"*80)\n",
    "r2_value = r2_score(y_test,y_pred)\n",
    "print(\"R-Squared value:\",r2_value)"
   ]
  },
  {
   "cell_type": "code",
   "execution_count": 7,
   "id": "1a48bfa8",
   "metadata": {},
   "outputs": [
    {
     "name": "stdout",
     "output_type": "stream",
     "text": [
      "MSE : 7.368371860724337\n",
      "********************************************************************************\n",
      "RMSE : 2.7144745091314335\n",
      "********************************************************************************\n",
      "MAE: 1.6863514032494566\n",
      "********************************************************************************\n",
      "R-Squared value: 0.9069523645202958\n"
     ]
    }
   ],
   "source": [
    "# Traning accuracy\n",
    "y_pred_train = rf_reg.predict(x_train)\n",
    "\n",
    "mse = mean_squared_error(y_train,y_pred_train)\n",
    "print(\"MSE :\",mse)\n",
    "\n",
    "print(\"*\"*80)\n",
    "rmse = np.sqrt(mse)\n",
    "print(\"RMSE :\",rmse)\n",
    "\n",
    "print(\"*\"*80)\n",
    "mae = mean_absolute_error(y_train,y_pred_train)\n",
    "print(\"MAE:\",mae)\n",
    "print(\"*\"*80)\n",
    "r2_value = r2_score(y_train,y_pred_train)\n",
    "print(\"R-Squared value:\",r2_value)"
   ]
  },
  {
   "cell_type": "code",
   "execution_count": 9,
   "id": "aa94f922",
   "metadata": {},
   "outputs": [],
   "source": [
    "import pickle\n",
    "with open(\"Random_Forest.pkl\",'wb') as f:\n",
    "    pickle.dump(rf_reg,f)"
   ]
  }
 ],
 "metadata": {
  "kernelspec": {
   "display_name": "Python 3 (ipykernel)",
   "language": "python",
   "name": "python3"
  },
  "language_info": {
   "codemirror_mode": {
    "name": "ipython",
    "version": 3
   },
   "file_extension": ".py",
   "mimetype": "text/x-python",
   "name": "python",
   "nbconvert_exporter": "python",
   "pygments_lexer": "ipython3",
   "version": "3.9.12"
  }
 },
 "nbformat": 4,
 "nbformat_minor": 5
}

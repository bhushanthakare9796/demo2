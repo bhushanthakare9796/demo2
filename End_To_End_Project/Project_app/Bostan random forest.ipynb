{
 "cells": [
  {
   "cell_type": "code",
   "execution_count": 1,
   "id": "1d90fa65",
   "metadata": {},
   "outputs": [],
   "source": [
    "import pandas as pd\n",
    "import numpy as np\n",
    "import seaborn as sns\n",
    "import matplotlib.pyplot as plt\n",
    "from sklearn.model_selection import train_test_split,GridSearchCV,RandomizedSearchCV\n",
    "from sklearn.metrics import mean_absolute_error,mean_squared_error,r2_score\n",
    "from sklearn.ensemble import RandomForestRegressor\n",
    "from sklearn.datasets import load_boston\n",
    "import warnings\n",
    "warnings.filterwarnings(\"ignore\")"
   ]
  },
  {
   "cell_type": "code",
   "execution_count": 2,
   "id": "89f645ad",
   "metadata": {},
   "outputs": [],
   "source": [
    "bostan=load_boston()\n",
    "x=pd.DataFrame(bostan.data,columns=bostan.feature_names)\n",
    "y=pd.Series(bostan.target)"
   ]
  },
  {
   "cell_type": "code",
   "execution_count": 3,
   "id": "aac75c35",
   "metadata": {},
   "outputs": [],
   "source": [
    "x_train,x_test,y_train,y_test=train_test_split(x,y,test_size=0.22,random_state=45)"
   ]
  },
  {
   "cell_type": "code",
   "execution_count": 4,
   "id": "6b8c1ff8",
   "metadata": {},
   "outputs": [
    {
     "data": {
      "text/plain": [
       "RandomForestRegressor(criterion='mae', max_depth=7, min_samples_leaf=3,\n",
       "                      min_samples_split=9, n_estimators=94, random_state=11)"
      ]
     },
     "execution_count": 4,
     "metadata": {},
     "output_type": "execute_result"
    }
   ],
   "source": [
    "# Hyperparameter tuning\n",
    "rf_reg=RandomForestRegressor()\n",
    "parameter={\"n_estimators\":np.arange(10,100),\n",
    "          \"criterion\":[\"mse\",\"mae\"],\n",
    "          \"min_samples_split\":np.arange(2,20),\n",
    "          \"min_samples_leaf\":np.arange(2,20),\n",
    "          \"max_depth\":np.arange(2,10),\n",
    "          \"random_state\":[11],}\n",
    "\n",
    "rscv_rf_reg=RandomizedSearchCV(rf_reg,parameter,cv=5)  # RandomizedSearchCV\n",
    "rscv_rf_reg.fit(x_train,y_train)\n",
    "rscv_rf_reg.best_estimator_"
   ]
  },
  {
   "cell_type": "code",
   "execution_count": 5,
   "id": "5505864c",
   "metadata": {},
   "outputs": [
    {
     "data": {
      "text/plain": [
       "RandomForestRegressor(criterion='mae', max_depth=7, min_samples_leaf=3,\n",
       "                      min_samples_split=9, n_estimators=94, random_state=11)"
      ]
     },
     "execution_count": 5,
     "metadata": {},
     "output_type": "execute_result"
    }
   ],
   "source": [
    "rf_reg=rscv_rf_reg.best_estimator_\n",
    "rf_reg.fit(x_train,y_train)"
   ]
  },
  {
   "cell_type": "code",
   "execution_count": 6,
   "id": "cbe93727",
   "metadata": {},
   "outputs": [
    {
     "name": "stdout",
     "output_type": "stream",
     "text": [
      "MSE : 13.602649626325732\n",
      "********************************************************************************\n",
      "RMSE : 3.688177005828995\n",
      "********************************************************************************\n",
      "MAE: 2.5443199088145882\n",
      "********************************************************************************\n",
      "R-Squared value: 0.8675530144478381\n"
     ]
    }
   ],
   "source": [
    "# Testing accuracy\n",
    "y_pred=rf_reg.predict(x_test)\n",
    "mse = mean_squared_error(y_test,y_pred)\n",
    "print(\"MSE :\",mse)\n",
    "\n",
    "print(\"*\"*80)\n",
    "rmse = np.sqrt(mse)\n",
    "print(\"RMSE :\",rmse)\n",
    "\n",
    "print(\"*\"*80)\n",
    "mae = mean_absolute_error(y_test,y_pred)\n",
    "print(\"MAE:\",mae)\n",
    "print(\"*\"*80)\n",
    "r2_value = r2_score(y_test,y_pred)\n",
    "print(\"R-Squared value:\",r2_value)"
   ]
  },
  {
   "cell_type": "code",
   "execution_count": 7,
   "id": "1a48bfa8",
   "metadata": {},
   "outputs": [
    {
     "name": "stdout",
     "output_type": "stream",
     "text": [
      "MSE : 6.710925487535987\n",
      "********************************************************************************\n",
      "RMSE : 2.590545403488614\n",
      "********************************************************************************\n",
      "MAE: 1.6247205421751796\n",
      "********************************************************************************\n",
      "R-Squared value: 0.9152545826542581\n"
     ]
    }
   ],
   "source": [
    "# Traning accuracy\n",
    "y_pred_train = rf_reg.predict(x_train)\n",
    "\n",
    "mse = mean_squared_error(y_train,y_pred_train)\n",
    "print(\"MSE :\",mse)\n",
    "\n",
    "print(\"*\"*80)\n",
    "rmse = np.sqrt(mse)\n",
    "print(\"RMSE :\",rmse)\n",
    "\n",
    "print(\"*\"*80)\n",
    "mae = mean_absolute_error(y_train,y_pred_train)\n",
    "print(\"MAE:\",mae)\n",
    "print(\"*\"*80)\n",
    "r2_value = r2_score(y_train,y_pred_train)\n",
    "print(\"R-Squared value:\",r2_value)"
   ]
  },
  {
   "cell_type": "code",
   "execution_count": 8,
   "id": "aa94f922",
   "metadata": {},
   "outputs": [],
   "source": [
    "# import pickle\n",
    "# with open(\"Random_Forest.pkl\",'wb') as f:\n",
    "#     pickle.dump(rf_reg,f)"
   ]
  },
  {
   "cell_type": "code",
   "execution_count": 28,
   "id": "ef3681f7",
   "metadata": {},
   "outputs": [
    {
     "data": {
      "text/plain": [
       "437     8.7\n",
       "208    24.4\n",
       "313    21.6\n",
       "190    37.0\n",
       "149    15.4\n",
       "       ... \n",
       "32     13.2\n",
       "380    10.4\n",
       "131    19.6\n",
       "414     7.0\n",
       "459    20.0\n",
       "Length: 394, dtype: float64"
      ]
     },
     "execution_count": 28,
     "metadata": {},
     "output_type": "execute_result"
    }
   ],
   "source": [
    "y_train"
   ]
  },
  {
   "cell_type": "code",
   "execution_count": 26,
   "id": "be37b4d1",
   "metadata": {},
   "outputs": [],
   "source": [
    "CRIM = 1.38799\n",
    "ZN=0.0\n",
    "INDUS=8.14 \n",
    "CHAS=0.0\n",
    "NOX=0.538 \n",
    "RM=5.950\n",
    "AGE=82.0\n",
    "DIS=3.9900\n",
    "RAD=4.0\n",
    "TAX=307.0\n",
    "PTRATIO=21.0\n",
    "B=232.60\n",
    "LSTAT=27.71\n",
    "#32 \t1.38799 \t0.0 \t8.14 \t0.0 \t0.538 \t5.950 \t82.0 \t3.9900 \t4.0 \t307.0 \t21.0 \t232.60 \t27.71"
   ]
  },
  {
   "cell_type": "code",
   "execution_count": 21,
   "id": "e4d025e2",
   "metadata": {},
   "outputs": [
    {
     "data": {
      "text/plain": [
       "{'columns': ['CRIM',\n",
       "  'ZN',\n",
       "  'INDUS',\n",
       "  'CHAS',\n",
       "  'NOX',\n",
       "  'RM',\n",
       "  'AGE',\n",
       "  'DIS',\n",
       "  'RAD',\n",
       "  'TAX',\n",
       "  'PTRATIO',\n",
       "  'B',\n",
       "  'LSTAT']}"
      ]
     },
     "execution_count": 21,
     "metadata": {},
     "output_type": "execute_result"
    }
   ],
   "source": [
    "label_encoded_columns = {\"columns\":list(x.columns)}\n",
    "label_encoded_columns"
   ]
  },
  {
   "cell_type": "code",
   "execution_count": 16,
   "id": "fd23c976",
   "metadata": {},
   "outputs": [],
   "source": [
    "import json\n",
    "with open(\"Label_Endecoded_columns.json\",\"w\") as f:\n",
    "    json.dump(label_encoded_columns,f)"
   ]
  },
  {
   "cell_type": "code",
   "execution_count": 27,
   "id": "186425d9",
   "metadata": {},
   "outputs": [
    {
     "name": "stdout",
     "output_type": "stream",
     "text": [
      "predicted_price of House in Bostan is : 14.65\n"
     ]
    }
   ],
   "source": [
    "Column_names=x.columns\n",
    "array = np.zeros(len(x.columns),dtype=int)\n",
    "\n",
    "array[0]=CRIM\n",
    "array[1]=ZN\n",
    "array[2]=INDUS\n",
    "array[3]=CHAS\n",
    "array[4]=NOX\n",
    "array[5]=RM\n",
    "array[6]=AGE\n",
    "array[7]=DIS\n",
    "array[8]=RAD\n",
    "array[9]=TAX\n",
    "array[10]=PTRATIO\n",
    "array[11]=B\n",
    "array[12]=LSTAT\n",
    "\n",
    "predicted_price = np.around(rf_reg.predict([array])[0],2)\n",
    "print(\"predicted_price of House in Bostan is :\",predicted_price)"
   ]
  }
 ],
 "metadata": {
  "kernelspec": {
   "display_name": "Python 3 (ipykernel)",
   "language": "python",
   "name": "python3"
  },
  "language_info": {
   "codemirror_mode": {
    "name": "ipython",
    "version": 3
   },
   "file_extension": ".py",
   "mimetype": "text/x-python",
   "name": "python",
   "nbconvert_exporter": "python",
   "pygments_lexer": "ipython3",
   "version": "3.9.12"
  }
 },
 "nbformat": 4,
 "nbformat_minor": 5
}
